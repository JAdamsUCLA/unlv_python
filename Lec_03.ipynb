{
 "cells": [
  {
   "cell_type": "markdown",
   "metadata": {},
   "source": [
    "# Physics 300 \n",
    "## Computational Physics I (Fall 2017), BPB-248, Tues/Thurs 10:00 - 11:15 am \n",
    "\n",
    "|Instructor| Prof. Qiang Zhu|\n",
    "|--|-------------------------------|\n",
    "|Email | qiang.zhu@unlv.edu|\n",
    "|Website|http://www.physics.unlv.edu/~qzhu/|\n",
    "|Office| BPB 232|\n",
    "|Office hours | Tues/Thurs 8:30 - 10:00 |"
   ]
  },
  {
   "cell_type": "markdown",
   "metadata": {},
   "source": [
    "# 3 Python Advanced Programming\n",
    "\n",
    "## 3.1 Python Libraries\n",
    "\n",
    "When one installs python, the standard source distribution has a rich and versatile standard library, \n",
    "which is immediately available, without making the user download separate packages. \n",
    "This gives the Python language a head start in many projects.\n",
    "\n",
    "__However, the standard library modules are not always the best choices for a job.__ \n",
    "\n",
    "Different from Fortran, C or C++, python is the upper language which is aimed to faciliate the programming for\n",
    "the specific task. One could build a code from the scratch based on the basic funcitonality. But a wise way\n",
    "is to call the advanced libraries. Here is the list of them which have been extensively used in different domains.\n",
    "\n",
    "### Operation System interface\n",
    "os, systems\n",
    "\n",
    "### Time\n",
    "time, canlendar\n",
    "\n",
    "### Basic Math\n",
    "random, math\n",
    "\n",
    "### Web services\n",
    "urllib, ftplib, xmlrpclib, json\n",
    "\n",
    "### Plot\n",
    "matplotlib\n",
    "\n",
    "### Graphicial User Interface\n",
    "Tkinter, ttk\n",
    "\n",
    "### Scientific Programming\n",
    "numpy, scipy\n",
    "\n",
    "### Machine learning\n",
    "scikit-learn\n",
    "\n",
    "### Database\n",
    "dbm, gdmb, sqlite3\n",
    "\n",
    "For more information, please refer to the python documentation.\n",
    "\n",
    "To use them, one just need to import in different ways\n",
    "```python\n",
    "import numpy as np        #1, give a short name to the library\n",
    "array = np.zeros(5)       #2, call its subfunction\n",
    "```\n",
    "or \n",
    "\n",
    "```python\n",
    "from numpy import zeros   #1, explicitly import the function from libraray\n",
    "array = zeros(5)          #2, call the function\n",
    "```\n",
    "\n",
    "If python complains that the library doesn't exist,\n",
    "you need to install it from the anaconda prompt by typing\n",
    "\n",
    "$ __conda install numpy__\n",
    "\n",
    "\n",
    "To explore all of them is a mission impossible in this class.\n",
    "\n",
    "If you don't know how to find the right library for your job, __google is always the best friend.__\n",
    "\n",
    "From now on we will mostly focus on _numpy_ and _matplotlib_."
   ]
  },
  {
   "cell_type": "code",
   "execution_count": 8,
   "metadata": {},
   "outputs": [
    {
     "name": "stdout",
     "output_type": "stream",
     "text": [
      "[ 0.  0.  0.  0.  0.]\n"
     ]
    }
   ],
   "source": [
    "import numpy as np        #1, give a short name to the library\n",
    "array = np.zeros(5)       #2, call its subfunction\n",
    "print(array)"
   ]
  },
  {
   "cell_type": "code",
   "execution_count": 26,
   "metadata": {
    "collapsed": true
   },
   "outputs": [],
   "source": [
    "#This is a program to simply get the webpage contents\n",
    "import urllib.request\n",
    "\n",
    "req = urllib.request.Request('http://www.physics.unlv.edu/~qzhu/')\n",
    "response = urllib.request.urlopen(req)\n",
    "the_page = response.read().decode()"
   ]
  },
  {
   "cell_type": "code",
   "execution_count": 126,
   "metadata": {},
   "outputs": [
    {
     "name": "stdout",
     "output_type": "stream",
     "text": [
      "6\n"
     ]
    }
   ],
   "source": [
    "#print(dir(the_page))\n",
    "#print(the_page)\n",
    "print(the_page.count('Qiang Zhu'))"
   ]
  },
  {
   "cell_type": "markdown",
   "metadata": {},
   "source": [
    "## Quiz:\n",
    "    1, How to quickly know the available functions in a library?\n",
    "    2, Which way is better if you want to import the library?"
   ]
  },
  {
   "cell_type": "code",
   "execution_count": null,
   "metadata": {
    "collapsed": true
   },
   "outputs": [],
   "source": [
    "#Try to wrte some lines to illustrate how to import the libarary and do something interesting.\n"
   ]
  },
  {
   "cell_type": "markdown",
   "metadata": {},
   "source": [
    "## 3.2 Numpy and matplotlib\n",
    "\n",
    "If you are the matlab user, you will be find these two libararies are very similar to matlab.\n",
    "\n",
    "### NumPy is the fundamental package for scientific computing with Python\n",
    "http://www.numpy.org/\n",
    "\n",
    "    a powerful N-dimensional array object\n",
    "    sophisticated (broadcasting) functions\n",
    "    tools for integrating C/C++ and Fortran code\n",
    "    useful linear algebra, Fourier transform, and random number capabilities\n",
    "\n",
    "### Matplotlib is a Python 2D plotting library for high quality figures\n",
    "https://matplotlib.org/\n",
    "\n",
    "\n",
    "    Python scripts\n",
    "    the Python and IPython shell\n",
    "    the jupyter notebook\n",
    "    web application servers\n",
    "    graphical user interface toolkits.\n",
    "\n",
    "\n",
    "Here is a simple example to make a plot of sin function.\n",
    "```python\n",
    "\n",
    "import numpy as np\n",
    "import matplotlib.pyplot as plt\n",
    "\n",
    "x = np.arange(0, 5, 0.1)\n",
    "y = np.sin(x)\n",
    "plt.plot(x, y)\n",
    "plt.show()\n",
    "\n",
    "```\n"
   ]
  },
  {
   "cell_type": "code",
   "execution_count": 103,
   "metadata": {},
   "outputs": [
    {
     "data": {
      "text/plain": [
       "array([[ 1.,  0.,  0.,  0.,  0.],\n",
       "       [ 0.,  1.,  0.,  0.,  0.],\n",
       "       [ 0.,  0.,  1.,  0.,  0.],\n",
       "       [ 0.,  0.,  0.,  1.,  0.],\n",
       "       [ 0.,  0.,  0.,  0.,  1.]])"
      ]
     },
     "execution_count": 103,
     "metadata": {},
     "output_type": "execute_result"
    }
   ],
   "source": [
    "# Some basic functions in numpy\n",
    "\n",
    "#1, define an array/matrix\n",
    "\n",
    "import numpy as np\n",
    "array = np.linspace(0,1,10)   #[Start, End, number of splits]#\n",
    "\n",
    "#alternatively, check the following functions\n",
    "#np.arange(0, 5, 0.1);\n",
    "#np.array([1,2,3,4,5,6])\n",
    "#np.zeros([3,3])\n",
    "#np.ones([3,4])\n",
    "#np.eye(5)"
   ]
  },
  {
   "cell_type": "code",
   "execution_count": 121,
   "metadata": {},
   "outputs": [
    {
     "data": {
      "text/plain": [
       "array([ 0.        ,  0.33333333,  0.66666667,  1.        ,  1.33333333,\n",
       "        1.66666667,  2.        ,  2.33333333,  2.66666667,  3.        ])"
      ]
     },
     "execution_count": 121,
     "metadata": {},
     "output_type": "execute_result"
    }
   ],
   "source": [
    "#2, Array/Matrix operation\n",
    "\n",
    "import numpy as np\n",
    "a = np.linspace(0,1,10)   #[Start, End, number of splits]#\n",
    "b = np.linspace(0,2,10)   #[Start, End, number of splits]#\n",
    "a+b\n",
    "\n",
    "#alternatively, check the following functions\n",
    "#a-b\n",
    "#np.max(a)\n",
    "#a+1.0\n",
    "#a*b\n",
    "#a_trans = a.transpose()\n",
    "#np.dot(a_trans, b)\n",
    "#dir(np.linalg)"
   ]
  },
  {
   "cell_type": "code",
   "execution_count": 124,
   "metadata": {},
   "outputs": [
    {
     "data": {
      "image/png": "[encoded data removed]",
      "text/plain": [
       "<matplotlib.figure.Figure at 0x1a45385ec18>"
      ]
     },
     "metadata": {},
     "output_type": "display_data"
    }
   ],
   "source": [
    "import numpy as np\n",
    "import matplotlib.pyplot as plt\n",
    "\n",
    "pi = 3.1415926\n",
    "x = np.linspace(0, pi, 20)\n",
    "y = np.sin(x)\n",
    "plt.plot(x, y)\n",
    "\n",
    "#how to make it, add label/title/lengend, set the range\n",
    "\n",
    "plt.show()\n"
   ]
  },
  {
   "cell_type": "code",
   "execution_count": 125,
   "metadata": {
    "collapsed": true
   },
   "outputs": [],
   "source": [
    "# More examples could be found in https://matplotlib.org/examples/index.html\n",
    "# Try to repeat some of them here"
   ]
  },
  {
   "cell_type": "markdown",
   "metadata": {},
   "source": [
    "## 3.3 Exercise \n",
    "### Combinatorics and Two-state systems\n",
    "\n",
    "Suppose we are flipping three coins. How many possible outcomes are there?\n",
    "\n",
    "|Coin 1 | Coin 2| Coin 3|\n",
    "|:-----:|:-----:|:-----:|\n",
    "|H|H|H|\n",
    "|H|H|T|\n",
    "|H|T|H|\n",
    "|T|H|H|\n",
    "|H|T|T|\n",
    "|T|T|H|\n",
    "|T|H|T|\n",
    "|T|H|T|\n",
    "\n",
    "Since all coins are indistinguishable, we are more interested in how many heads are there in all outcomes?\n",
    "By simply counting the number from the above table, we know\n",
    "\n",
    "3 heads, HHH \n",
    "\n",
    "2 heads, HHT, HTH, THH\n",
    "\n",
    "1 head, HTT, TTH, THT\n",
    "\n",
    "0 head, TTT\n",
    "\n",
    "each state is called _microstate_.\n",
    "\n",
    "_microstate_: Each of the eight different outcomes\n",
    "\n",
    "_macrostate_: How many heads are there in all outcomes\n",
    "\n",
    "Although each microstate is equal to exist, but macrostates have different probabilies to explored. Clearly,\n",
    "2 heads is more likely to be found than 3 heads. Here we introduce another quantity,\n",
    "\n",
    "_multiplicity_ ($\\Omega$): the number of microstates in a given macrostate.\n",
    "\n",
    "In the context of coin games, let's define $\\Omega(n)$ as the number of cases when we get $n$ heads. If the total number\n",
    "of coins is $N$, we can derive the equations as follows,\n",
    "\n",
    "$$\\Omega(N,n) = = \\frac{N!}{n!\\cdot(N-n)!} = \\binom{N}{n}$$\n",
    "\n",
    "Now Let's write a program to calculate and plot the mulplicity as a function of $N$."
   ]
  },
  {
   "cell_type": "code",
   "execution_count": 90,
   "metadata": {},
   "outputs": [
    {
     "name": "stdout",
     "output_type": "stream",
     "text": [
      "type a positive integer value for N: 10\n"
     ]
    },
    {
     "data": {
      "image/png": "[encoded data removed]",
      "text/plain": [
       "<matplotlib.figure.Figure at 0x1a4539242e8>"
      ]
     },
     "metadata": {},
     "output_type": "display_data"
    }
   ],
   "source": [
    "import matplotlib.ticker as mtick\n",
    "import matplotlib.pyplot as plt\n",
    "\n",
    "#Multiplicity calculation\n",
    "def factor(N):\n",
    "    if N == 0 or N == 1:\n",
    "        return 1\n",
    "    else: \n",
    "        total = 1\n",
    "        for i in range(2,N+1):\n",
    "            total *= i\n",
    "        return total     \n",
    "\n",
    "def Multiplicity(N,n):\n",
    "    return factor(N)/factor(n)/factor(N-n)\n",
    "    \n",
    "N=int(input(\"type a positive integer value for N: \"))\n",
    "N_series = range(N+1)     \n",
    "Omega = []\n",
    "\n",
    "for n in N_series:\n",
    "    Omega.append(Multiplicity(N,n))\n",
    "    \n",
    "plt.plot(N_series, Omega)\n",
    "plt.title('N='+str(N))\n",
    "plt.xlabel('n')\n",
    "plt.ylabel('$\\Omega(n)$')\n",
    "\n",
    "plt.show()\n",
    "\n",
    "\n"
   ]
  },
  {
   "cell_type": "code",
   "execution_count": 85,
   "metadata": {
    "collapsed": true
   },
   "outputs": [],
   "source": [
    "#Let's copy all the codes to this box and remake a separate function to plot the curve.\n",
    "\n",
    "import matplotlib.ticker as mtick\n",
    "import matplotlib.pyplot as plt\n",
    "\n",
    "#Multiplicity calculation\n",
    "def factor(N):\n",
    "    N = int(N)\n",
    "    total = 1\n",
    "    if N<0:\n",
    "        print('Error, N must be greater than 0')\n",
    "    elif N>1: \n",
    "        for i in range(2,N+1):\n",
    "            total *= i\n",
    "    return total \n",
    "\n",
    "def Multiplicity(N,n):\n",
    "    return factor(N)/factor(n)/factor(N-n)\n",
    "    \n",
    "\n",
    "def Plot_Omega(N):    \n",
    "\n",
    "    N_series = range(N+1)     \n",
    "    Omega = []\n",
    "\n",
    "    for n in N_series:\n",
    "        Omega.append(Multiplicity(N,n))\n",
    "    \n",
    "    plt.plot(N_series, Omega)\n",
    "    plt.title('N='+str(N))\n",
    "    plt.xlabel('n')\n",
    "    plt.ylabel('$\\Omega(n)$')\n",
    "\n",
    "    plt.show()"
   ]
  },
  {
   "cell_type": "code",
   "execution_count": 86,
   "metadata": {},
   "outputs": [
    {
     "data": {
      "image/png": "[encoded data removed]",
      "text/plain": [
       "<matplotlib.figure.Figure at 0x1a45341ea58>"
      ]
     },
     "metadata": {},
     "output_type": "display_data"
    }
   ],
   "source": [
    "# Now we can call any arbitray N more conveniently\n",
    "Plot_Omega(10)"
   ]
  },
  {
   "cell_type": "code",
   "execution_count": 87,
   "metadata": {},
   "outputs": [
    {
     "data": {
      "image/png": "[encoded data removed]",
      "text/plain": [
       "<matplotlib.figure.Figure at 0x1a453684780>"
      ]
     },
     "metadata": {},
     "output_type": "display_data"
    }
   ],
   "source": [
    "# Let's increase the number\n",
    "Plot_Omega(100)"
   ]
  },
  {
   "cell_type": "code",
   "execution_count": 88,
   "metadata": {},
   "outputs": [
    {
     "ename": "OverflowError",
     "evalue": "integer division result too large for a float",
     "output_type": "error",
     "traceback": [
      "\u001b[1;31m---------------------------------------------------------------------------\u001b[0m",
      "\u001b[1;31mOverflowError\u001b[0m                             Traceback (most recent call last)",
      "\u001b[1;32m<ipython-input-88-d5a238e3daf4>\u001b[0m in \u001b[0;36m<module>\u001b[1;34m()\u001b[0m\n\u001b[0;32m      1\u001b[0m \u001b[1;31m# Let's increase the number again\u001b[0m\u001b[1;33m\u001b[0m\u001b[1;33m\u001b[0m\u001b[0m\n\u001b[0;32m      2\u001b[0m \u001b[1;33m\u001b[0m\u001b[0m\n\u001b[1;32m----> 3\u001b[1;33m \u001b[0mPlot_Omega\u001b[0m\u001b[1;33m(\u001b[0m\u001b[1;36m1000\u001b[0m\u001b[1;33m)\u001b[0m\u001b[1;33m\u001b[0m\u001b[0m\n\u001b[0m",
      "\u001b[1;32m<ipython-input-85-6ed029c41696>\u001b[0m in \u001b[0;36mPlot_Omega\u001b[1;34m(N)\u001b[0m\n\u001b[0;32m     25\u001b[0m \u001b[1;33m\u001b[0m\u001b[0m\n\u001b[0;32m     26\u001b[0m     \u001b[1;32mfor\u001b[0m \u001b[0mn\u001b[0m \u001b[1;32min\u001b[0m \u001b[0mN_series\u001b[0m\u001b[1;33m:\u001b[0m\u001b[1;33m\u001b[0m\u001b[0m\n\u001b[1;32m---> 27\u001b[1;33m         \u001b[0mOmega\u001b[0m\u001b[1;33m.\u001b[0m\u001b[0mappend\u001b[0m\u001b[1;33m(\u001b[0m\u001b[0mMultiplicity\u001b[0m\u001b[1;33m(\u001b[0m\u001b[0mN\u001b[0m\u001b[1;33m,\u001b[0m\u001b[0mn\u001b[0m\u001b[1;33m)\u001b[0m\u001b[1;33m)\u001b[0m\u001b[1;33m\u001b[0m\u001b[0m\n\u001b[0m\u001b[0;32m     28\u001b[0m \u001b[1;33m\u001b[0m\u001b[0m\n\u001b[0;32m     29\u001b[0m     \u001b[0mplt\u001b[0m\u001b[1;33m.\u001b[0m\u001b[0mplot\u001b[0m\u001b[1;33m(\u001b[0m\u001b[0mN_series\u001b[0m\u001b[1;33m,\u001b[0m \u001b[0mOmega\u001b[0m\u001b[1;33m)\u001b[0m\u001b[1;33m\u001b[0m\u001b[0m\n",
      "\u001b[1;32m<ipython-input-85-6ed029c41696>\u001b[0m in \u001b[0;36mMultiplicity\u001b[1;34m(N, n)\u001b[0m\n\u001b[0;32m     16\u001b[0m \u001b[1;33m\u001b[0m\u001b[0m\n\u001b[0;32m     17\u001b[0m \u001b[1;32mdef\u001b[0m \u001b[0mMultiplicity\u001b[0m\u001b[1;33m(\u001b[0m\u001b[0mN\u001b[0m\u001b[1;33m,\u001b[0m\u001b[0mn\u001b[0m\u001b[1;33m)\u001b[0m\u001b[1;33m:\u001b[0m\u001b[1;33m\u001b[0m\u001b[0m\n\u001b[1;32m---> 18\u001b[1;33m     \u001b[1;32mreturn\u001b[0m \u001b[0mfactor\u001b[0m\u001b[1;33m(\u001b[0m\u001b[0mN\u001b[0m\u001b[1;33m)\u001b[0m\u001b[1;33m/\u001b[0m\u001b[0mfactor\u001b[0m\u001b[1;33m(\u001b[0m\u001b[0mn\u001b[0m\u001b[1;33m)\u001b[0m\u001b[1;33m/\u001b[0m\u001b[0mfactor\u001b[0m\u001b[1;33m(\u001b[0m\u001b[0mN\u001b[0m\u001b[1;33m-\u001b[0m\u001b[0mn\u001b[0m\u001b[1;33m)\u001b[0m\u001b[1;33m\u001b[0m\u001b[0m\n\u001b[0m\u001b[0;32m     19\u001b[0m \u001b[1;33m\u001b[0m\u001b[0m\n\u001b[0;32m     20\u001b[0m \u001b[1;33m\u001b[0m\u001b[0m\n",
      "\u001b[1;31mOverflowError\u001b[0m: integer division result too large for a float"
     ]
    }
   ],
   "source": [
    "# Let's increase the number again\n",
    "\n",
    "Plot_Omega(1000)"
   ]
  },
  {
   "cell_type": "markdown",
   "metadata": {},
   "source": [
    "## 3.4 Diagnostics\n",
    "Opps, it complains something about the division, it is not allowed to do division between two large integers!\n",
    "Computer always hates division!\n",
    "\n",
    "Let's change it a bit, \n",
    "\n",
    "instead of doing division between two numbers: \n",
    "\n",
    "    N1/N2\n",
    "\n",
    "We can also use log() function to make it easier: \n",
    "\n",
    "    log(N1/N2) = log(N1) - log(N2)\n",
    "\n",
    "untimately, we will have the following expression:\n",
    "\n",
    "    exp(log(N1) - log(N2))"
   ]
  },
  {
   "cell_type": "code",
   "execution_count": 82,
   "metadata": {
    "collapsed": true
   },
   "outputs": [],
   "source": [
    "import matplotlib.pyplot as plt\n",
    "from math import log, exp\n",
    "\n",
    "#Multiplicity calculation\n",
    "def factor(N):\n",
    "    N = int(N)\n",
    "    total = 1\n",
    "    if N<0:\n",
    "        print('Error, N must be greater than 0')\n",
    "    elif N>1: \n",
    "        for i in range(2,N+1):\n",
    "            total *= i\n",
    "    return total\n",
    "\n",
    "def Multiplicity(N,n):\n",
    "    #return factor(N)/factor(n)/factor(N-n)\n",
    "    return exp(log(factor(N)) - log(factor(n)) - log(factor(N-n))) #change it to log funtion\n",
    "\n",
    "def Plot_Omega2(N):    \n",
    "\n",
    "    N_series = range(N+1)     \n",
    "    Omega = []\n",
    "\n",
    "    for n in N_series:\n",
    "        Omega.append(Multiplicity(N,n))\n",
    "    \n",
    "    plt.plot(N_series, Omega)\n",
    "    plt.title('N='+str(N))\n",
    "    plt.xlabel('n')\n",
    "    plt.ylabel('$\\Omega(n)$')\n",
    "\n",
    "    plt.show()"
   ]
  },
  {
   "cell_type": "code",
   "execution_count": 83,
   "metadata": {},
   "outputs": [
    {
     "data": {
      "image/png": "[encoded data removed]",
      "text/plain": [
       "<matplotlib.figure.Figure at 0x1a45390bf98>"
      ]
     },
     "metadata": {},
     "output_type": "display_data"
    }
   ],
   "source": [
    "Plot_Omega2(10)"
   ]
  },
  {
   "cell_type": "code",
   "execution_count": 76,
   "metadata": {},
   "outputs": [
    {
     "data": {
      "image/png": "[encoded data removed]",
      "text/plain": [
       "<matplotlib.figure.Figure at 0x1a452f2e208>"
      ]
     },
     "metadata": {},
     "output_type": "display_data"
    }
   ],
   "source": [
    "Plot_Omega2(100)"
   ]
  },
  {
   "cell_type": "code",
   "execution_count": 77,
   "metadata": {},
   "outputs": [
    {
     "data": {
      "image/png": "[encoded data removed]",
      "text/plain": [
       "<matplotlib.figure.Figure at 0x1a453404e10>"
      ]
     },
     "metadata": {},
     "output_type": "display_data"
    }
   ],
   "source": [
    "Plot_Omega2(1000)"
   ]
  },
  {
   "cell_type": "markdown",
   "metadata": {},
   "source": [
    "## The underlying physics\n",
    "If we plug in a very large number, any random fluctuation will become unmeasurable. The most-likely macrostates are very localized. Considering a real materail which is composed of tons of atoms or molecules (avogadro number = 6.02$\\times 10^{23}$),\n",
    "the real measurement on the physical properties only gives you a number without large deviation. This is actually due to the large number effects！"
   ]
  },
  {
   "cell_type": "markdown",
   "metadata": {},
   "source": [
    "## 3.5 Homework\n",
    "### Two Interacting Einstein Solids\n",
    "\n",
    "We already learned that Einstein proposed that a model that each atom is pretty much a harmonic oscillator \n",
    "because it is attached by some springs to the adjacent atoms in the crystal lattice. $N$ is the number of\n",
    "oscillators, while $q$ is the quantized energy for each oscillator.\n",
    "\n",
    "The generalized form to calculate the multiplicity for a give ($N,q$) is \n",
    " $$\\Omega(N, q) = \\binom{q+N-1}{q} = \\frac{(q+N-1)!}{q!(N-1)!}$$\n",
    "    \n",
    "Now let us consider two interacting Einstein solids.\n",
    "\n",
    "\n",
    "Assuming that $A$ and $B$ are weakly coupled (just like ideal gas), the individual energies\n",
    "of the solids, $q_A$ and $q_B$ will change slowly. Under this assumption, the total number of energies $q_\\text{total}$ will\n",
    "be simply the sum of  $q_A$ and $q_B$.\n",
    "\n",
    "\n",
    "\n",
    "To make life easier, let's fix $q_\\text{total}$.\n",
    "\n",
    "What's the $\\Omega$ for any arbitary $q_A$? If we just count $A$,\n",
    " $$\\Omega(A) = \\binom{q_A+N_A-1}{q_A} = \\frac{(q_A+N_A-1)!}{q_A!(N_A-1)!}$$\n",
    " \n",
    "Similarly\n",
    " $$\\Omega(B) = \\binom{q_B+N_B-1}{q_B} = \\frac{(q_B+N_B-1)!}{q_B!(N_B-1)!}$$\n",
    " \n",
    "And the total number follows\n",
    "\n",
    " $$\\Omega(\\text{total}) = \\Omega(A) + \\Omega(B) $$\n",
    "\n",
    "We have the following table when $q_A + q_B = 2, N_A = N_B = 3$.\n",
    "\n",
    "|q(A)| O(A) | q(B) | O(B) | O(total)|\n",
    "|:--:|:-----------:|:----:|:-----------:|:-------:|\n",
    "|0   |      1      |   2  |     3       |    4    |\n",
    "|1   |      3      |   1  |     3       |    6    |\n",
    "|2   |      3      |   0  |     1       |    4    |\n",
    "\n",
    "\n",
    "\n",
    "### Coding:\n",
    "\n",
    "Write a code to calculate as a function of $q_A$, when \n",
    "\n",
    "1, $N_A$=300, $N_B$=200, and $q$=100\n",
    "\n",
    "2, $N_A$=3000, $N_B$=2000, and $q$=100\n",
    "    \n",
    "plot them and try to find some tendency when $N$ increases."
   ]
  },
  {
   "cell_type": "code",
   "execution_count": null,
   "metadata": {
    "collapsed": true
   },
   "outputs": [],
   "source": []
  }
 ],
 "metadata": {
  "kernelspec": {
   "display_name": "Python 3",
   "language": "python",
   "name": "python3"
  },
  "language_info": {
   "codemirror_mode": {
    "name": "ipython",
    "version": 3
   },
   "file_extension": ".py",
   "mimetype": "text/x-python",
   "name": "python",
   "nbconvert_exporter": "python",
   "pygments_lexer": "ipython3",
   "version": "3.6.1"
  }
 },
 "nbformat": 4,
 "nbformat_minor": 2
}
